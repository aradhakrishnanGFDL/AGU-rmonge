{
 "cells": [
  {
   "cell_type": "code",
   "execution_count": 340,
   "metadata": {},
   "outputs": [],
   "source": [
    "from netCDF4 import Dataset\n",
    "import numpy as np\n",
    "import matplotlib\n",
    "from matplotlib import pyplot as plt\n",
    "import xarray as xr\n",
    "##importing packages needed"
   ]
  },
  {
   "cell_type": "code",
   "execution_count": 946,
   "metadata": {},
   "outputs": [],
   "source": [
    "hf = \"tas_Amon_BCC-CSM2-MR_historical_r1i1p1f1_gn_185001-201412.nc\"\n",
    "nf = \"tas_Amon_BCC-CSM2-MR_ssp370_r1i1p1f1_gn_201501-210012.nc\"\n",
    "ff = \"tas_Amon_BCC-CSM2-MR_ssp370_r1i1p1f1_gn_201501-210012.nc\"\n",
    "hxr = xr.open_dataset(hf)\n",
    "nxr = xr.open_dataset(nf)\n",
    "fxr = xr.open_dataset(ff)\n",
    "\n",
    "##opening datasets"
   ]
  },
  {
   "cell_type": "code",
   "execution_count": 947,
   "metadata": {},
   "outputs": [],
   "source": [
    "tas = hxr.tas\n",
    "weights = np.cos(np.deg2rad(tas.lat))\n",
    "weights.name = \"weights\"\n",
    "##desinating weights"
   ]
  },
  {
   "cell_type": "code",
   "execution_count": 948,
   "metadata": {},
   "outputs": [],
   "source": [
    "lat1 = 70\n",
    "lat2 = 90\n",
    "##designating polar latitudes"
   ]
  },
  {
   "cell_type": "code",
   "execution_count": 949,
   "metadata": {},
   "outputs": [
    {
     "name": "stdout",
     "output_type": "stream",
     "text": [
      "288.53413241122496\n"
     ]
    }
   ],
   "source": [
    "htasg = hxr.tas.sel(time=slice(\"1994\", \"2014\"))\n",
    "htasg = htasg.weighted(weights)\n",
    "htasg = htasg.mean(dim=[\"lon\", \"lat\", \"time\"])\n",
    "htasg = htasg.values\n",
    "print(htasg)\n",
    "##getting mean tas for historical global"
   ]
  },
  {
   "cell_type": "code",
   "execution_count": 950,
   "metadata": {},
   "outputs": [
    {
     "name": "stdout",
     "output_type": "stream",
     "text": [
      "259.68237257116607\n"
     ]
    }
   ],
   "source": [
    "htasa = hxr.tas.sel(time=slice(\"1994\", \"2014\"), lat=slice(lat1, lat2))\n",
    "htasa = htasa.weighted(weights)\n",
    "htasa = htasa.mean(dim=[\"lon\", \"lat\", \"time\"])\n",
    "htasa = htasa.values\n",
    "print(htasa)\n",
    "##getting means tas for historical polar"
   ]
  },
  {
   "cell_type": "code",
   "execution_count": 951,
   "metadata": {},
   "outputs": [
    {
     "name": "stdout",
     "output_type": "stream",
     "text": [
      "289.3020557928229\n"
     ]
    }
   ],
   "source": [
    "ntasg = nxr.tas.sel(time=slice(\"2020\", \"2040\"))\n",
    "ntasg = ntasg.weighted(weights)\n",
    "ntasg = ntasg.mean(dim=[\"lon\", \"lat\", \"time\"])\n",
    "ntasg = ntasg.values\n",
    "print(ntasg)\n",
    "##getting means tas for near global"
   ]
  },
  {
   "cell_type": "code",
   "execution_count": 952,
   "metadata": {},
   "outputs": [
    {
     "name": "stdout",
     "output_type": "stream",
     "text": [
      "261.21635780096796\n"
     ]
    }
   ],
   "source": [
    "ntasa = nxr.tas.sel(time=slice(\"2020\", \"2040\"), lat=slice(lat1, lat2))\n",
    "ntasa = ntasa.weighted(weights)\n",
    "ntasa = ntasa.mean(dim=[\"lon\", \"lat\", \"time\"])\n",
    "ntasa = ntasa.values\n",
    "print(ntasa)\n",
    "##getting means tas for near polar"
   ]
  },
  {
   "cell_type": "code",
   "execution_count": 953,
   "metadata": {},
   "outputs": [
    {
     "name": "stdout",
     "output_type": "stream",
     "text": [
      "291.5277780198328\n"
     ]
    }
   ],
   "source": [
    "ftasg = fxr.tas.sel(time=slice(\"2080\", \"2100\"))\n",
    "ftasg = ftasg.weighted(weights)\n",
    "ftasg = ftasg.mean(dim=[\"lon\", \"lat\", \"time\"])\n",
    "ftasg = ftasg.values\n",
    "print(ftasg)\n",
    "##getting means tas for far global"
   ]
  },
  {
   "cell_type": "code",
   "execution_count": 954,
   "metadata": {},
   "outputs": [
    {
     "name": "stdout",
     "output_type": "stream",
     "text": [
      "266.72077559627434\n"
     ]
    }
   ],
   "source": [
    "ftasa = fxr.tas.sel(time=slice(\"2080\", \"2100\"), lat=slice(lat1, lat2))\n",
    "ftasa = ftasa.weighted(weights)\n",
    "ftasa = ftasa.mean(dim=[\"lon\", \"lat\", \"time\"])\n",
    "ftasa = ftasa.values\n",
    "print(ftasa)\n",
    "##getting means tas for far polar"
   ]
  },
  {
   "cell_type": "code",
   "execution_count": 955,
   "metadata": {},
   "outputs": [
    {
     "data": {
      "text/plain": [
       "1.9975758865550906"
      ]
     },
     "execution_count": 955,
     "metadata": {},
     "output_type": "execute_result"
    }
   ],
   "source": [
    "(ntasa-htasa)/(ntasg-htasg)\n",
    "##finding polar amplification for near"
   ]
  },
  {
   "cell_type": "code",
   "execution_count": 956,
   "metadata": {},
   "outputs": [
    {
     "data": {
      "text/plain": [
       "2.351114308544158"
      ]
     },
     "execution_count": 956,
     "metadata": {},
     "output_type": "execute_result"
    }
   ],
   "source": [
    "(ftasa-htasa)/(ftasg-htasg)\n",
    "##finding polar amplification for far"
   ]
  },
  {
   "cell_type": "code",
   "execution_count": 957,
   "metadata": {},
   "outputs": [
    {
     "data": {
      "text/plain": [
       "0.7679233815979387"
      ]
     },
     "execution_count": 957,
     "metadata": {},
     "output_type": "execute_result"
    }
   ],
   "source": [
    "ntasg-htasg"
   ]
  },
  {
   "cell_type": "code",
   "execution_count": 958,
   "metadata": {},
   "outputs": [
    {
     "data": {
      "text/plain": [
       "2.993645608607835"
      ]
     },
     "execution_count": 958,
     "metadata": {},
     "output_type": "execute_result"
    }
   ],
   "source": [
    "ftasg-htasg"
   ]
  },
  {
   "cell_type": "code",
   "execution_count": 959,
   "metadata": {},
   "outputs": [
    {
     "data": {
      "text/plain": [
       "1.5339852298018855"
      ]
     },
     "execution_count": 959,
     "metadata": {},
     "output_type": "execute_result"
    }
   ],
   "source": [
    "ntasa-htasa"
   ]
  },
  {
   "cell_type": "code",
   "execution_count": 960,
   "metadata": {},
   "outputs": [
    {
     "data": {
      "text/plain": [
       "7.038403025108266"
      ]
     },
     "execution_count": 960,
     "metadata": {},
     "output_type": "execute_result"
    }
   ],
   "source": [
    "ftasa-htasa"
   ]
  }
 ],
 "metadata": {
  "kernelspec": {
   "display_name": "Python 3",
   "language": "python",
   "name": "python3"
  },
  "language_info": {
   "codemirror_mode": {
    "name": "ipython",
    "version": 3
   },
   "file_extension": ".py",
   "mimetype": "text/x-python",
   "name": "python",
   "nbconvert_exporter": "python",
   "pygments_lexer": "ipython3",
   "version": "3.7.6"
  }
 },
 "nbformat": 4,
 "nbformat_minor": 4
}
